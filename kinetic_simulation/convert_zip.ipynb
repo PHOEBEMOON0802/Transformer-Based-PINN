{
 "cells": [
  {
   "cell_type": "code",
   "execution_count": null,
   "id": "d4ecca26",
   "metadata": {},
   "outputs": [
    {
     "name": "stdout",
     "output_type": "stream",
     "text": [
      "transformers.ipynb\n",
      "logfile_4.log\n",
      "logfile_e8.log\n",
      "ld_tf_ddp_q.py\n",
      "ld_tf_ddp_nupq.py\n",
      "data_output_origin.ipynb\n",
      "ld_tf_ddp_nuq.py\n",
      "logfile_gn_0001.log\n",
      "convert_zip.ipynb\n",
      "logfile.log\n",
      "TwoStream.zip\n"
     ]
    }
   ],
   "source": [
    "# 压缩当前路径所有文件，输出zip文件\n",
    "path='./'\n",
    "\n",
    "import zipfile,os\n",
    "zipName = 'TwoStream.zip' #压缩后文件的位置及名称\n",
    "f = zipfile.ZipFile( zipName, 'w', zipfile.ZIP_DEFLATED )\n",
    "for dirpath, dirnames, filenames in os.walk(path):\n",
    "    for filename in filenames:\n",
    "        print(filename)\n",
    "        f.write(os.path.join(dirpath,filename))\n",
    "f.close()\n"
   ]
  },
  {
   "cell_type": "code",
   "execution_count": null,
   "id": "fda2df63",
   "metadata": {},
   "outputs": [],
   "source": []
  }
 ],
 "metadata": {
  "kernelspec": {
   "display_name": "pytorch",
   "language": "python",
   "name": "pytorch"
  },
  "language_info": {
   "codemirror_mode": {
    "name": "ipython",
    "version": 3
   },
   "file_extension": ".py",
   "mimetype": "text/x-python",
   "name": "python",
   "nbconvert_exporter": "python",
   "pygments_lexer": "ipython3",
   "version": "3.6.13"
  }
 },
 "nbformat": 4,
 "nbformat_minor": 5
}
